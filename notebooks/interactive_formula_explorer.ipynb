{
 "cells": [
  {
   "cell_type": "markdown",
   "id": "0ad3b588",
   "metadata": {},
   "source": [
    "# 🧪 Formula Explorer\n",
   ]
  },
  {
   "cell_type": "markdown",
   "id": "dc95eb80",
   "metadata": {},
   "source": [
    "## 🎲 Probability"
   ]
  },
  {
   "cell_type": "markdown",
   "id": "95d2f6ab",
   "metadata": {},
   "source": [
    "**Probability of an Event**:\n",
    "\n",
    "```latex\n",
    "P(A) = \\frac{\\text{Favorable Outcomes}}{\\text{Total Outcomes}}\n",
    "```"
   ]
  },
  {
   "cell_type": "markdown",
   "id": "adfb52ac",
   "metadata": {},
   "source": [
    "**Expected Value**:\n",
    "\n",
    "```latex\n",
    "E(X) = \\sum P(x) \\cdot x\n",
    "```"
   ]
  },
  {
   "cell_type": "markdown",
   "id": "7724be89",
   "metadata": {},
   "source": [
    "**Variance and Standard Deviation**:\n",
    "\n",
    "```latex\n",
    "\\text{Var}(X) = \\sum P(x) \\cdot (x - E(X))^2\n",
    "\\quad \\text{Std Dev} = \\sqrt{\\text{Var}(X)}\n",
    "```"
   ]
  },
  {
   "cell_type": "markdown",
   "id": "13ad91e4",
   "metadata": {},
   "source": [
    "**Covariance and Correlation**:\n",
    "\n",
    "```latex\n",
    "\\text{Cov}(X, Y) = \\sum P(x, y)(x - E(X))(y - E(Y))\n",
    "\\quad \\rho_{X,Y} = \\frac{\\text{Cov}(X, Y)}{\\sigma_X \\cdot \\sigma_Y}\n",
    "```"
   ]
  },
  {
   "cell_type": "markdown",
   "id": "968e2014",
   "metadata": {},
   "source": [
    "## 💸 Time Value of Money"
   ]
  },
  {
   "cell_type": "markdown",
   "id": "d71783a4",
   "metadata": {},
   "source": [
    "**Future Value (FV)**:\n",
    "\n",
    "```latex\n",
    "FV = PV \\cdot (1 + r)^n\n",
    "```"
   ]
  },
  {
   "cell_type": "markdown",
   "id": "ed571863",
   "metadata": {},
   "source": [
    "**Present Value (PV)**:\n",
    "\n",
    "```latex\n",
    "PV = \\frac{FV}{(1 + r)^n}\n",
    "```"
   ]
  },
  {
   "cell_type": "markdown",
   "id": "7eddb1a3",
   "metadata": {},
   "source": [
    "**Net Present Value (NPV)**:\n",
    "\n",
    "```latex\n",
    "NPV = \\sum \\frac{C_t}{(1 + r)^t} - C_0\n",
    "```"
   ]
  },
  {
   "cell_type": "markdown",
   "id": "5243981e",
   "metadata": {},
   "source": [
    "**Internal Rate of Return (IRR)**:\n",
    "\n",
    "```latex\n",
    "NPV = 0 \\text{ solved for } r\n",
    "```"
   ]
  },
  {
   "cell_type": "markdown",
   "id": "7a56f021",
   "metadata": {},
   "source": [
    "## 📊 Portfolio Theory"
   ]
  },
  {
   "cell_type": "markdown",
   "id": "6af65a58",
   "metadata": {},
   "source": [
    "**Expected Return of a Portfolio**:\n",
    "\n",
    "```latex\n",
    "E(R_p) = \\sum w_i \\cdot E(R_i)\n",
    "```"
   ]
  },
  {
   "cell_type": "markdown",
   "id": "438aab1f",
   "metadata": {},
   "source": [
    "**Portfolio Variance**:\n",
    "\n",
    "```latex\n",
    "\\sigma_p^2 = \\sum w_i^2 \\cdot \\sigma_i^2 + \\sum_{i \\neq j} w_i w_j \\cdot \\text{Cov}(i, j)\n",
    "```"
   ]
  },
  {
   "cell_type": "markdown",
   "id": "f0e25404",
   "metadata": {},
   "source": [
    "**CAPM**:\n",
    "\n",
    "```latex\n",
    "E(R_i) = R_f + \\beta_i \\cdot (E(R_m) - R_f)\n",
    "```"
   ]
  },
  {
   "cell_type": "markdown",
   "id": "0df9cfc3",
   "metadata": {},
   "source": [
    "**Sharpe Ratio**:\n",
    "\n",
    "```latex\n",
    "\\text{Sharpe Ratio} = \\frac{E(R_p) - R_f}{\\sigma_p}\n",
    "```"
   ]
  }
 ],
 "metadata": {},
 "nbformat": 4,
 "nbformat_minor": 5
}
