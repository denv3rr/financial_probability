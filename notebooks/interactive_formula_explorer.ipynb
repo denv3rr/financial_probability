{
 "cells": [
  {
   "cell_type": "markdown",
   "id": "02831c19",
   "metadata": {},
   "source": [
    "# 🧪 Formula Explorer\n",
   ]
  },
  {
   "cell_type": "markdown",
   "id": "15488cfa",
   "metadata": {},
   "source": [
    "## 🎲 Probability"
   ]
  },
  {
   "cell_type": "markdown",
   "id": "3758da3e",
   "metadata": {},
   "source": [
    "**Probability of an Event**:\n",
    "```\n",
    "P(A) = Favorable Outcomes / Total Outcomes\n",
    "```"
   ]
  },
  {
   "cell_type": "markdown",
   "id": "61ee0c04",
   "metadata": {},
   "source": [
    "**Expected Value**:\n",
    "```\n",
    "E(X) = Σ P(x) * x\n",
    "```"
   ]
  },
  {
   "cell_type": "markdown",
   "id": "7424c455",
   "metadata": {},
   "source": [
    "**Variance and Standard Deviation**:\n",
    "```\n",
    "Var(X) = Σ P(x) * (x - E(X))²\n",
    "Std Dev = √Var(X)\n",
    "```"
   ]
  },
  {
   "cell_type": "markdown",
   "id": "111de4ab",
   "metadata": {},
   "source": [
    "**Covariance and Correlation**:\n",
    "```\n",
    "Cov(X,Y) = Σ P(x,y) * (x - E(X)) * (y - E(Y))\n",
    "ρ(X,Y) = Cov(X,Y) / (σ_X * σ_Y)\n",
    "```"
   ]
  },
  {
   "cell_type": "markdown",
   "id": "31e37740",
   "metadata": {},
   "source": [
    "## 💸 Time Value of Money"
   ]
  },
  {
   "cell_type": "markdown",
   "id": "8590022a",
   "metadata": {},
   "source": [
    "**Future Value (FV)**:\n",
    "```\n",
    "FV = PV * (1 + r)^n\n",
    "```"
   ]
  },
  {
   "cell_type": "markdown",
   "id": "82d9c400",
   "metadata": {},
   "source": [
    "**Present Value (PV)**:\n",
    "```\n",
    "PV = FV / (1 + r)^n\n",
    "```"
   ]
  },
  {
   "cell_type": "markdown",
   "id": "ffb86d60",
   "metadata": {},
   "source": [
    "**Net Present Value (NPV)**:\n",
    "```\n",
    "NPV = Σ [C_t / (1 + r)^t] - C_0\n",
    "```"
   ]
  },
  {
   "cell_type": "markdown",
   "id": "627bfa24",
   "metadata": {},
   "source": [
    "**Internal Rate of Return (IRR)**:\n",
    "```\n",
    "Find r where NPV = 0\n",
    "```"
   ]
  },
  {
   "cell_type": "markdown",
   "id": "3284fa49",
   "metadata": {},
   "source": [
    "## 📊 Portfolio Theory"
   ]
  },
  {
   "cell_type": "markdown",
   "id": "86c39894",
   "metadata": {},
   "source": [
    "**Expected Portfolio Return**:\n",
    "```\n",
    "E(R_p) = Σ w_i * E(R_i)\n",
    "```"
   ]
  },
  {
   "cell_type": "markdown",
   "id": "d6ca0a4c",
   "metadata": {},
   "source": [
    "**Portfolio Variance**:\n",
    "```\n",
    "σ²_p = Σ w²_i * σ²_i + Σ (i ≠ j) w_i * w_j * Cov(i,j)\n",
    "```"
   ]
  },
  {
   "cell_type": "markdown",
   "id": "c9744517",
   "metadata": {},
   "source": [
    "**CAPM**:\n",
    "```\n",
    "E(R_i) = R_f + β_i * (E(R_m) - R_f)\n",
    "```"
   ]
  },
  {
   "cell_type": "markdown",
   "id": "75778bfa",
   "metadata": {},
   "source": [
    "**Sharpe Ratio**:\n",
    "```\n",
    "Sharpe = (E(R_p) - R_f) / σ_p\n",
    "```"
   ]
  }
 ],
 "metadata": {},
 "nbformat": 4,
 "nbformat_minor": 5
}
