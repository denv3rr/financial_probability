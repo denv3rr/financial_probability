{
 "cells": [
  {
   "cell_type": "markdown",
   "id": "e24c7872",
   "metadata": {},
   "source": [
    "# Financial & Probability Formula Reference"
   ]
  },
  {
   "cell_type": "markdown",
   "id": "fdeee6b8",
   "metadata": {},
   "source": [
    "This notebook includes key probability, finance, and portfolio theory formulas."
   ]
  },
  {
   "cell_type": "markdown",
   "id": "574a08b9",
   "metadata": {},
   "source": [
    "## Probability"
   ]
  },
  {
   "cell_type": "markdown",
   "id": "97f71e15",
   "metadata": {},
   "source": [
    "### Probability of an Event\n",
    "\\[\n",
    "P(A) = \\frac{\\text{Favorable Outcomes}}{\\text{Total Outcomes}}\n",
    "\\]"
   ]
  },
  {
   "cell_type": "markdown",
   "id": "ab1d461d",
   "metadata": {},
   "source": [
    "### Expected Value\n",
    "\\[\n",
    "E(X) = \\sum P(x) \\cdot x\n",
    "\\]"
   ]
  },
  {
   "cell_type": "markdown",
   "id": "d73db7b7",
   "metadata": {},
   "source": [
    "### Variance and Standard Deviation\n",
    "\\[\n",
    "\\text{Var}(X) = \\sum P(x) \\cdot (x - E(X))^2\n",
    "\\]\n",
    "\\[\n",
    "\\sigma = \\sqrt{\\text{Var}(X)}\n",
    "\\]"
   ]
  },
  {
   "cell_type": "markdown",
   "id": "94a56b49",
   "metadata": {},
   "source": [
    "### Covariance and Correlation\n",
    "\\[\n",
    "\\text{Cov}(X, Y) = \\sum P(x, y)(x - E(X))(y - E(Y))\n",
    "\\]\n",
    "\\[\n",
    "\\rho_{X,Y} = \\frac{\\text{Cov}(X, Y)}{\\sigma_X \\cdot \\sigma_Y}\n",
    "\\]"
   ]
  },
  {
   "cell_type": "markdown",
   "id": "b0d45d5e",
   "metadata": {},
   "source": [
    "## Time Value of Money"
   ]
  },
  {
   "cell_type": "markdown",
   "id": "dfe4f9a2",
   "metadata": {},
   "source": [
    "### Future Value\n",
    "\\[\n",
    "FV = PV \\cdot (1 + r)^n\n",
    "\\]"
   ]
  },
  {
   "cell_type": "markdown",
   "id": "ae9fdb67",
   "metadata": {},
   "source": [
    "### Present Value\n",
    "\\[\n",
    "PV = \\frac{FV}{(1 + r)^n}\n",
    "\\]"
   ]
  },
  {
   "cell_type": "markdown",
   "id": "840697a5",
   "metadata": {},
   "source": [
    "### Net Present Value\n",
    "\\[\n",
    "NPV = \\sum_{t=1}^{n} \\frac{C_t}{(1 + r)^t} - C_0\n",
    "\\]"
   ]
  },
  {
   "cell_type": "markdown",
   "id": "6e1d5e8d",
   "metadata": {},
   "source": [
    "### Internal Rate of Return (conceptual)\n",
    "\\[\n",
    "NPV = 0 \\text{ (solve for } r \\text{)}\n",
    "\\]"
   ]
  },
  {
   "cell_type": "markdown",
   "id": "07927385",
   "metadata": {},
   "source": [
    "## 📊 Portfolio Theory"
   ]
  },
  {
   "cell_type": "markdown",
   "id": "d467e9e3",
   "metadata": {},
   "source": [
    "### Expected Portfolio Return\n",
    "\\[\n",
    "E(R_p) = \\sum w_i \\cdot E(R_i)\n",
    "\\]"
   ]
  },
  {
   "cell_type": "markdown",
   "id": "82123f0a",
   "metadata": {},
   "source": [
    "### Portfolio Variance\n",
    "\\[\n",
    "\\sigma_p^2 = \\sum w_i^2 \\cdot \\sigma_i^2 + \\sum_{i \\neq j} w_i w_j \\cdot \\text{Cov}(i, j)\n",
    "\\]"
   ]
  },
  {
   "cell_type": "markdown",
   "id": "23efed8b",
   "metadata": {},
   "source": [
    "### CAPM\n",
    "\\[\n",
    "E(R_i) = R_f + \\beta_i (E(R_m) - R_f)\n",
    "\\]"
   ]
  },
  {
   "cell_type": "markdown",
   "id": "1b5a2bd7",
   "metadata": {},
   "source": [
    "### Sharpe Ratio\n",
    "\\[\n",
    "\\text{Sharpe Ratio} = \\frac{E(R_p) - R_f}{\\sigma_p}\n",
    "\\]"
   ]
  },
  {
   "cell_type": "markdown",
   "id": "ec17fc90",
   "metadata": {},
   "source": [
    "### Beta\n",
    "\\[\n",
    "\\beta_i = \\frac{\\text{Cov}(R_i, R_m)}{\\text{Var}(R_m)}\n",
    "\\]"
   ]
  },
  {
   "cell_type": "markdown",
   "id": "58c66dd7",
   "metadata": {},
   "source": [
    "## Monte Carlo (Conceptual Formula)\n",
    "\n",
    "Simulate investment growth:\n",
    "\\[\n",
    "\\text{Final Value} = PV \\cdot \\prod_{t=1}^{n} (1 + r_t)\n",
    "\\]\n",
    "Where each \\( r_t \\) is a random draw from a normal distribution:\n",
    "\\[\n",
    "r_t \\sim \\mathcal{N}(\\mu, \\sigma^2)\n",
    "\\]"
   ]
  }
 ],
 "metadata": {},
 "nbformat": 4,
 "nbformat_minor": 5
}
