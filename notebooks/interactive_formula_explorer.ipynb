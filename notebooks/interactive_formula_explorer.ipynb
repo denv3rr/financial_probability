{
 "cells": [
  {
   "cell_type": "markdown",
   "metadata": {},
   "source": [
    "# 🧪 Formula Explorer\n",
    "Use this notebook to experiment."
   ]
  },
  {
   "cell_type": "code",
   "execution_count": null,
   "metadata": {},
   "outputs": [],
   "source": [
    "# Future Value Example\n",
    "def future_value(PV, r, n):\n",
    "    return PV * (1 + r)**n\n",
    "\n",
    "future_value(10000, 0.07, 30)"
   ]
  }
 ],
 "metadata": {},
 "nbformat": 4,
 "nbformat_minor": 2
}
