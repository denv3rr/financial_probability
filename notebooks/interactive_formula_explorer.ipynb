{
 "cells": [
  {
   "cell_type": "markdown",
   "metadata": {},
   "source": [
    "# Financial & Probability Formula Reference\n",
    "\n",
    "Key probability, finance, and portfolio theory formulas."
   ]
  },
  {
   "cell_type": "markdown",
   "metadata": {},
   "source": [
    "## Probability"
   ]
  },
  {
   "cell_type": "markdown",
   "metadata": {},
   "source": [
    "### Probability of an Event\n",
    "$$P(A) = \\frac{\\text{Favorable Outcomes}}{\\text{Total Outcomes}}$$"
   ]
  },
  {
   "cell_type": "markdown",
   "metadata": {},
   "source": [
    "### Expected Value\n",
    "$$E(X) = \\sum P(x) \\cdot x$$"
   ]
  },
  {
   "cell_type": "markdown",
   "metadata": {},
   "source": [
    "### Variance and Standard Deviation\n",
    "$$\\text{Var}(X) = \\sum P(x) (x - E(X))^2$$\n",
    "$$\\sigma = \\sqrt{\\text{Var}(X)}$$"
   ]
  },
  {
   "cell_type": "markdown",
   "metadata": {},
   "source": [
    "### Covariance and Correlation\n",
    "$$\\text{Cov}(X, Y) = \\sum P(x, y)(x - E(X))(y - E(Y))$$\n",
    "$$\\rho_{X,Y} = \\frac{\\text{Cov}(X, Y)}{\\sigma_X \\cdot \\sigma_Y}$$"
   ]
  },
  {
   "cell_type": "markdown",
   "metadata": {},
   "source": [
    "## Time Value of Money"
   ]
  },
  {
   "cell_type": "markdown",
   "metadata": {},
   "source": [
    "### Future Value\n",
    "$$FV = PV \\cdot (1 + r)^n$$"
   ]
  },
  {
   "cell_type": "markdown",
   "metadata": {},
   "source": [
    "### Present Value\n",
    "$$PV = \\frac{FV}{(1 + r)^n}$$"
   ]
  },
  {
   "cell_type": "markdown",
   "metadata": {},
   "source": [
    "### Net Present Value\n",
    "$$NPV = \\sum_{t=1}^{n} \\frac{C_t}{(1 + r)^t} - C_0$$"
   ]
  },
  {
   "cell_type": "markdown",
   "metadata": {},
   "source": [
    "### Internal Rate of Return\n",
    "$$NPV = 0$$ (Solve for $r$)"
   ]
  },
  {
   "cell_type": "markdown",
   "metadata": {},
   "source": [
    "## Portfolio Theory"
   ]
  },
  {
   "cell_type": "markdown",
   "metadata": {},
   "source": [
    "### Expected Portfolio Return\n",
    "$$E(R_p) = \\sum w_i \\cdot E(R_i)$$"
   ]
  },
  {
   "cell_type": "markdown",
   "metadata": {},
   "source": [
    "### Portfolio Variance\n",
    "$$\\sigma_p^2 = \\sum w_i^2 \\cdot \\sigma_i^2 + \\sum_{i \\neq j} w_i w_j \\cdot \\text{Cov}(i, j)$$"
   ]
  },
  {
   "cell_type": "markdown",
   "metadata": {},
   "source": [
    "### CAPM\n",
    "$$E(R_i) = R_f + \\beta_i (E(R_m) - R_f)$$"
   ]
  },
  {
   "cell_type": "markdown",
   "metadata": {},
   "source": [
    "### Sharpe Ratio\n",
    "$$\\text{Sharpe Ratio} = \\frac{E(R_p) - R_f}{\\sigma_p}$$"
   ]
  },
  {
   "cell_type": "markdown",
   "metadata": {},
   "source": [
    "### Beta\n",
    "$$\\beta_i = \\frac{\\text{Cov}(R_i, R_m)}{\\text{Var}(R_m)}$$"
   ]
  },
  {
   "cell_type": "markdown",
   "metadata": {},
   "source": [
    "## Monte Carlo (Concept)\n",
    "Simulated growth over $n$ years:\n",
    "$$\\text{Final Value} = PV \\cdot \\prod_{t=1}^{n} (1 + r_t)$$\n",
    "Where each $r_t$ is drawn from:\n",
    "$$r_t \\sim \\mathcal{N}(\\mu, \\sigma^2)$$"
   ]
  }
 ],
 "metadata": {
  "kernelspec": {
   "display_name": "Python 3",
   "language": "python",
   "name": "python3"
  },
  "language_info": {
   "name": "python",
   "version": "3.8"
  }
 },
 "nbformat": 4,
 "nbformat_minor": 2
}

