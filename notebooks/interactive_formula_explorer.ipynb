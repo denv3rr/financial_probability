{
 "cells": [
  {
   "cell_type": "markdown",
   "id": "0ad3b588",
   "metadata": {},
   "source": [
    "# 🧪 Formula Explorer\n",
   ]
  },
  {
   "cell_type": "markdown",
   "id": "f2a9fe8f",
   "metadata": {},
   "source": [
    "## 🎲 Probability"
   ]
  },
  {
   "cell_type": "markdown",
   "id": "32d822f3",
   "metadata": {},
   "source": [
    "**Probability of an Event**:\n",
    "\n",
    "```latex\n",
    "P(A) = \\frac{\\text{Favorable Outcomes}}{\\text{Total Outcomes}}\n",
    "```"
   ]
  },
  {
   "cell_type": "markdown",
   "id": "b65c74b5",
   "metadata": {},
   "source": [
    "**Expected Value**:\n",
    "\n",
    "```latex\n",
    "E(X) = \\sum P(x) \\cdot x\n",
    "```"
   ]
  },
  {
   "cell_type": "markdown",
   "id": "603c69de",
   "metadata": {},
   "source": [
    "**Variance and Standard Deviation**:\n",
    "\n",
    "```latex\n",
    "\\text{Var}(X) = \\sum P(x) \\cdot (x - E(X))^2\n",
    "\\text{Std Dev} = \\sqrt{\\text{Var}(X)}\n",
    "```"
   ]
  },
  {
   "cell_type": "markdown",
   "id": "54fb20a3",
   "metadata": {},
   "source": [
    "**Covariance and Correlation**:\n",
    "\n",
    "```latex\n",
    "\\text{Cov}(X, Y) = \\sum P(x, y)(x - E(X))(y - E(Y))\n",
    "\\rho_{X,Y} = \\frac{\\text{Cov}(X, Y)}{\\sigma_X \\cdot \\sigma_Y}\n",
    "```"
   ]
  },
  {
   "cell_type": "markdown",
   "id": "81b50d83",
   "metadata": {},
   "source": [
    "## 💸 Time Value of Money"
   ]
  },
  {
   "cell_type": "markdown",
   "id": "f5c6dbd0",
   "metadata": {},
   "source": [
    "**Future Value (FV)**:\n",
    "\n",
    "```latex\n",
    "FV = PV \\cdot (1 + r)^n\n",
    "```"
   ]
  },
  {
   "cell_type": "markdown",
   "id": "39be34c3",
   "metadata": {},
   "source": [
    "**Present Value (PV)**:\n",
    "\n",
    "```latex\n",
    "PV = \\frac{FV}{(1 + r)^n}\n",
    "```"
   ]
  },
  {
   "cell_type": "markdown",
   "id": "2f5e42f4",
   "metadata": {},
   "source": [
    "**Net Present Value (NPV)**:\n",
    "\n",
    "```latex\n",
    "NPV = \\sum \\frac{C_t}{(1 + r)^t} - C_0\n",
    "```"
   ]
  },
  {
   "cell_type": "markdown",
   "id": "9bb509bb",
   "metadata": {},
   "source": [
    "**Internal Rate of Return (IRR)**:\n",
    "\n",
    "```latex\n",
    "NPV = 0 \\text{ solved for } r\n",
    "```"
   ]
  },
  {
   "cell_type": "markdown",
   "id": "9344555a",
   "metadata": {},
   "source": [
    "## 📊 Portfolio Theory"
   ]
  },
  {
   "cell_type": "markdown",
   "id": "dcc02301",
   "metadata": {},
   "source": [
    "**Expected Portfolio Return**:\n",
    "\n",
    "```latex\n",
    "E(R_p) = \\sum w_i \\cdot E(R_i)\n",
    "```"
   ]
  },
  {
   "cell_type": "markdown",
   "id": "b870e533",
   "metadata": {},
   "source": [
    "**Portfolio Variance**:\n",
    "\n",
    "```latex\n",
    "\\sigma_p^2 = \\sum w_i^2 \\cdot \\sigma_i^2 + \\sum_{i \\neq j} w_i w_j \\cdot \\text{Cov}(i, j)\n",
    "```"
   ]
  },
  {
   "cell_type": "markdown",
   "id": "93808992",
   "metadata": {},
   "source": [
    "**CAPM**:\n",
    "\n",
    "```latex\n",
    "E(R_i) = R_f + \\beta_i \\cdot (E(R_m) - R_f)\n",
    "```"
   ]
  },
  {
   "cell_type": "markdown",
   "id": "5d0142f4",
   "metadata": {},
   "source": [
    "**Sharpe Ratio**:\n",
    "\n",
    "```latex\n",
    "\\text{Sharpe Ratio} = \\frac{E(R_p) - R_f}{\\sigma_p}\n",
    "```"
   ]
  }
 ],
 "metadata": {},
 "nbformat": 4,
 "nbformat_minor": 5
}
